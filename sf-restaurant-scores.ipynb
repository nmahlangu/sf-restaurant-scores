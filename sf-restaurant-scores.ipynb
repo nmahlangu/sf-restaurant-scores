{
 "cells": [
  {
   "cell_type": "markdown",
   "metadata": {},
   "source": [
    "## Data Wrangling"
   ]
  },
  {
   "cell_type": "code",
   "execution_count": 28,
   "metadata": {
    "collapsed": false
   },
   "outputs": [],
   "source": [
    "import pandas as pd\n",
    "import numpy as np\n",
    "import os\n",
    "import sys\n",
    "\n",
    "# businesses\n",
    "businesses_df = pd.read_csv('./SFFoodProgram_Complete_Data/businesses_plus.csv')\n",
    "businesses_d = {}\n",
    "for index,row in businesses_df.iterrows():\n",
    "    business_id = row[0]\n",
    "    businesses_d[business_id] = {}\n",
    "    for i in range(1,len(row)):\n",
    "        businesses_d[business_id][businesses_df.columns.values[i]] = row[i]\n",
    "\n",
    "# violations\n",
    "violations_df = pd.read_csv('./SFFoodProgram_Complete_Data/violations_plus.csv')\n",
    "violations_d = {}\n",
    "for index,row in violations_df.iterrows():\n",
    "    business_id = row[0]\n",
    "    violations_d.setdefault(business_id,[])\n",
    "    d = {}\n",
    "    for i in range(1,len(row)):\n",
    "        d[violations_df.columns.values[i]] = row[i]\n",
    "    violations_d[business_id].append(d)\n",
    "                     \n",
    "# inspections\n",
    "inspections_df = pd.read_csv('./SFFoodProgram_Complete_Data/inspections_plus.csv')\n",
    "inspections_d = {}\n",
    "for index,row in inspections_df.iterrows():\n",
    "    business_id = row[0]\n",
    "    inspections_d.setdefault(business_id,[])\n",
    "    d = {}\n",
    "    for i in range(1,len(row)):\n",
    "        d[inspections_df.columns.values[i]] = row[i]\n",
    "    inspections_d[business_id].append(d)"
   ]
  },
  {
   "cell_type": "code",
   "execution_count": null,
   "metadata": {
    "collapsed": false
   },
   "outputs": [],
   "source": []
  }
 ],
 "metadata": {
  "kernelspec": {
   "display_name": "Python 2",
   "language": "python",
   "name": "python2"
  },
  "language_info": {
   "codemirror_mode": {
    "name": "ipython",
    "version": 2
   },
   "file_extension": ".py",
   "mimetype": "text/x-python",
   "name": "python",
   "nbconvert_exporter": "python",
   "pygments_lexer": "ipython2",
   "version": "2.7.10"
  }
 },
 "nbformat": 4,
 "nbformat_minor": 0
}
